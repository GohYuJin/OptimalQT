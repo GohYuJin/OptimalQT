{
 "cells": [
  {
   "cell_type": "markdown",
   "id": "2f6c90da-965b-4cae-8a15-5b6dc59eccf1",
   "metadata": {},
   "source": [
    "Data Format Description\n",
    "=======================\n",
    "\n",
    "The data for training and testing can be found in the corresponding folders.\n",
    "The sub-folders are structured as follows:\n",
    "\n",
    "  - image_02/ contains the left color camera images (png)\n",
    "  - label_02/ contains the left color camera label files (plain text files)\n",
    "  - calib/ contains the calibration for all four cameras (plain text file)\n",
    "\n",
    "The label files contain the following information, which can be read and\n",
    "written using the matlab tools (readLabels.m, writeLabels.m) provided within\n",
    "this devkit. All values (numerical or strings) are separated via spaces,\n",
    "each row corresponds to one object. The 15 columns represent:\n",
    "\n",
    "#Values    Name      Description\n",
    "----------------------------------------------------------------------------\n",
    "   1    type         Describes the type of object: 'Car', 'Van', 'Truck',\n",
    "                     'Pedestrian', 'Person_sitting', 'Cyclist', 'Tram',\n",
    "                     'Misc' or 'DontCare'\n",
    "   1    truncated    Float from 0 (non-truncated) to 1 (truncated), where\n",
    "                     truncated refers to the object leaving image boundaries\n",
    "   1    occluded     Integer (0,1,2,3) indicating occlusion state:\n",
    "                     0 = fully visible, 1 = partly occluded\n",
    "                     2 = largely occluded, 3 = unknown\n",
    "   1    alpha        Observation angle of object, ranging [-pi..pi]\n",
    "   4    bbox         2D bounding box of object in the image (0-based index):\n",
    "                     contains left, top, right, bottom pixel coordinates\n",
    "   3    dimensions   3D object dimensions: height, width, length (in meters)\n",
    "   3    location     3D object location x,y,z in camera coordinates (in meters)\n",
    "   1    rotation_y   Rotation ry around Y-axis in camera coordinates [-pi..pi]\n",
    "   1    score        Only for results: Float, indicating confidence in\n",
    "                     detection, needed for p/r curves, higher is better.\n",
    "\n",
    "Here, 'DontCare' labels denote regions in which objects have not been labeled,\n",
    "for example because they have been too far away from the laser scanner. To\n",
    "prevent such objects from being counted as false positives our evaluation\n",
    "script will ignore objects detected in don't care regions of the test set.\n",
    "You can use the don't care labels in the training set to avoid that your object\n",
    "detector is harvesting hard negatives from those areas, in case you consider\n",
    "non-object regions from the training images as negative examples.\n",
    "\n",
    "The coordinates in the camera coordinate system can be projected in the image\n",
    "by using the 3x4 projection matrix in the calib folder, where for the left\n",
    "color camera for which the images are provided, P2 must be used. The\n",
    "difference between rotation_y and alpha is, that rotation_y is directly\n",
    "given in camera coordinates, while alpha also considers the vector from the\n",
    "camera center to the object center, to compute the relative orientation of\n",
    "the object with respect to the camera. For example, a car which is facing\n",
    "along the X-axis of the camera coordinate system corresponds to rotation_y=0,\n",
    "no matter where it is located in the X/Z plane (bird's eye view), while\n",
    "alpha is zero only, when this object is located along the Z-axis of the\n",
    "camera. When moving the car away from the Z-axis, the observation angle\n",
    "will change.\n",
    "\n",
    "To project a point from Velodyne coordinates into the left color image,\n",
    "you can use this formula: x = P2 * R0_rect * Tr_velo_to_cam * y\n",
    "For the right color image: x = P3 * R0_rect * Tr_velo_to_cam * y\n",
    "\n",
    "Note: All matrices are stored row-major, i.e., the first values correspond\n",
    "to the first row. R0_rect contains a 3x3 matrix which you need to extend to\n",
    "a 4x4 matrix by adding a 1 as the bottom-right element and 0's elsewhere.\n",
    "Tr_xxx is a 3x4 matrix (R|t), which you need to extend to a 4x4 matrix\n",
    "in the same way!\n",
    "\n",
    "Note, that while all this information is available for the training data,\n",
    "only the data which is actually needed for the particular benchmark must\n",
    "be provided to the evaluation server. However, all 15 values must be provided\n",
    "at all times, with the unused ones set to their default values (=invalid) as\n",
    "specified in writeLabels.m. Additionally a 16'th value must be provided\n",
    "with a floating value of the score for a particular detection, where higher\n",
    "indicates higher confidence in the detection. The range of your scores will\n",
    "be automatically determined by our evaluation server, you don't have to\n",
    "normalize it, but it should be roughly linear. If you use writeLabels.m for\n",
    "writing your results, this function will take care of storing all required\n",
    "data correctly."
   ]
  },
  {
   "cell_type": "code",
   "execution_count": 35,
   "id": "b9092c9d-e5fa-4a9d-b7a6-d062d9cd58c3",
   "metadata": {},
   "outputs": [],
   "source": [
    "import torchvision\n",
    "import torch\n",
    "from torchvision.transforms import ToTensor, Lambda"
   ]
  },
  {
   "cell_type": "code",
   "execution_count": 55,
   "id": "afb3c421-6def-4e7b-bfc8-c8060e08406f",
   "metadata": {},
   "outputs": [],
   "source": [
    "label_mapping = {'Car': 0, \n",
    "                 'Van': 1, \n",
    "                 'Truck': 2,    \n",
    "                 'Pedestrian': 3, \n",
    "                 'Person_sitting': 4, \n",
    "                 'Cyclist': 5, \n",
    "                 'Tram': 6,\n",
    "                 'Misc': 7}\n",
    "\n",
    "target_transform = torchvision.transforms.Lambda(lambda y: torch.tensor(\n",
    "    [i[\"bbox\"] + [label_mapping[i[\"type\"]]] for i in y if (i[\"type\"] != \"DontCare\" and i[\"occluded\"] < 2)]\n",
    "))\n",
    "\n",
    "transform = torchvision.transforms.Compose([\n",
    "    torchvision.transforms.ToTensor()\n",
    "])\n",
    "ds = torchvision.datasets.Kitti(\"/home/jovyan/data\", target_transform=target_transform, transform=transform)\n"
   ]
  },
  {
   "cell_type": "code",
   "execution_count": 56,
   "id": "6df2d2c8-58d4-43da-a95d-2e7475614497",
   "metadata": {},
   "outputs": [
    {
     "data": {
      "text/plain": [
       "(tensor([[[1.0000, 1.0000, 0.9843,  ..., 0.4392, 0.4353, 0.4275],\n",
       "          [1.0000, 1.0000, 0.9804,  ..., 0.4431, 0.4431, 0.4353],\n",
       "          [1.0000, 1.0000, 0.9961,  ..., 0.4431, 0.4431, 0.4353],\n",
       "          ...,\n",
       "          [0.2667, 0.2706, 0.2745,  ..., 0.2392, 0.2510, 0.2549],\n",
       "          [0.2784, 0.2784, 0.2745,  ..., 0.2353, 0.2471, 0.2627],\n",
       "          [0.2863, 0.2863, 0.2824,  ..., 0.2627, 0.2588, 0.2549]],\n",
       " \n",
       "         [[1.0000, 1.0000, 1.0000,  ..., 0.6549, 0.6510, 0.6510],\n",
       "          [1.0000, 1.0000, 1.0000,  ..., 0.6588, 0.6549, 0.6588],\n",
       "          [1.0000, 1.0000, 1.0000,  ..., 0.6627, 0.6588, 0.6588],\n",
       "          ...,\n",
       "          [0.3059, 0.2941, 0.2902,  ..., 0.2667, 0.2627, 0.2549],\n",
       "          [0.3176, 0.2902, 0.2863,  ..., 0.2549, 0.2549, 0.2549],\n",
       "          [0.2824, 0.2902, 0.2902,  ..., 0.2549, 0.2549, 0.2549]],\n",
       " \n",
       "         [[1.0000, 1.0000, 1.0000,  ..., 0.9373, 0.9255, 0.9255],\n",
       "          [1.0000, 1.0000, 1.0000,  ..., 0.9333, 0.9255, 0.9255],\n",
       "          [1.0000, 1.0000, 1.0000,  ..., 0.9255, 0.9255, 0.9255],\n",
       "          ...,\n",
       "          [0.3098, 0.3176, 0.3255,  ..., 0.2863, 0.2902, 0.2784],\n",
       "          [0.3216, 0.3216, 0.3216,  ..., 0.2745, 0.2745, 0.2784],\n",
       "          [0.3294, 0.3216, 0.3216,  ..., 0.2706, 0.2745, 0.2745]]]),\n",
       " tensor([[0.0000e+00, 1.5536e+02, 7.4390e+01, 2.0591e+02, 2.0000e+00],\n",
       "         [4.7836e+02, 1.7021e+02, 5.5863e+02, 2.0184e+02, 0.0000e+00],\n",
       "         [7.1574e+02, 1.5620e+02, 7.6027e+02, 1.8900e+02, 0.0000e+00],\n",
       "         [7.4700e+02, 1.6285e+02, 7.9157e+02, 1.8807e+02, 0.0000e+00],\n",
       "         [7.8494e+02, 1.6343e+02, 8.3969e+02, 1.8582e+02, 0.0000e+00],\n",
       "         [9.2128e+02, 1.5511e+02, 9.8194e+02, 1.8627e+02, 1.0000e+00],\n",
       "         [9.9930e+02, 1.5817e+02, 1.0537e+03, 1.8169e+02, 0.0000e+00]]))"
      ]
     },
     "execution_count": 56,
     "metadata": {},
     "output_type": "execute_result"
    }
   ],
   "source": [
    "ds[0]"
   ]
  },
  {
   "cell_type": "code",
   "execution_count": 54,
   "id": "f5b385e4-93ca-417a-9593-57761411c44c",
   "metadata": {},
   "outputs": [
    {
     "ename": "IndexError",
     "evalue": "too many indices for tensor of dimension 1",
     "output_type": "error",
     "traceback": [
      "\u001b[0;31m---------------------------------------------------------------------------\u001b[0m",
      "\u001b[0;31mIndexError\u001b[0m                                Traceback (most recent call last)",
      "Input \u001b[0;32mIn [54]\u001b[0m, in \u001b[0;36m<cell line: 1>\u001b[0;34m()\u001b[0m\n\u001b[0;32m----> 1\u001b[0m \u001b[43mds\u001b[49m\u001b[43m[\u001b[49m\u001b[38;5;241;43m0\u001b[39;49m\u001b[43m]\u001b[49m\u001b[43m[\u001b[49m\u001b[38;5;241;43m1\u001b[39;49m\u001b[43m]\u001b[49m\u001b[43m[\u001b[49m\u001b[38;5;241;43m0\u001b[39;49m\u001b[43m]\u001b[49m\u001b[43m[\u001b[49m\u001b[38;5;124;43m\"\u001b[39;49m\u001b[38;5;124;43mbbox\u001b[39;49m\u001b[38;5;124;43m\"\u001b[39;49m\u001b[43m]\u001b[49m\n",
      "\u001b[0;31mIndexError\u001b[0m: too many indices for tensor of dimension 1"
     ]
    }
   ],
   "source": [
    "ds[0][1][0][\"bbox\"]\n",
    "\n"
   ]
  },
  {
   "cell_type": "code",
   "execution_count": null,
   "id": "c4f5d74b-e09c-48ac-9ee5-f8e41360634c",
   "metadata": {},
   "outputs": [],
   "source": []
  }
 ],
 "metadata": {
  "kernelspec": {
   "display_name": "Python 3 (ipykernel)",
   "language": "python",
   "name": "python3"
  },
  "language_info": {
   "codemirror_mode": {
    "name": "ipython",
    "version": 3
   },
   "file_extension": ".py",
   "mimetype": "text/x-python",
   "name": "python",
   "nbconvert_exporter": "python",
   "pygments_lexer": "ipython3",
   "version": "3.8.13"
  }
 },
 "nbformat": 4,
 "nbformat_minor": 5
}
